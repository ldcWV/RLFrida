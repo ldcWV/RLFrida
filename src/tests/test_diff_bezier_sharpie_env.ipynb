{
 "cells": [
  {
   "cell_type": "code",
   "execution_count": 1,
   "metadata": {},
   "outputs": [],
   "source": [
    "import sys\n",
    "import os\n",
    "sys.path.append(os.path.abspath('..'))\n",
    "\n",
    "from envs.diff_bezier_sharpie_env import DiffBezierSharpieEnv\n",
    "import torch\n",
    "\n",
    "import matplotlib.pyplot as plt"
   ]
  },
  {
   "cell_type": "code",
   "execution_count": 8,
   "metadata": {},
   "outputs": [
    {
     "name": "stdout",
     "output_type": "stream",
     "text": [
      "tensor(0.)\n"
     ]
    },
    {
     "data": {
      "image/png": "[encoded data removed]",
      "text/plain": [
       "<Figure size 640x480 with 3 Axes>"
      ]
     },
     "metadata": {},
     "output_type": "display_data"
    }
   ],
   "source": [
    "env = DiffBezierSharpieEnv('cpu', 1, 1)\n",
    "\n",
    "env.reset()\n",
    "old_canvas = env.get_canvas()[0]\n",
    "old_obs = env.get_observation()\n",
    "action = torch.tensor([[0.5, 0.0, 0.0, 0.2, 0.5, 0.0]])\n",
    "env.step(action)\n",
    "new_canvas = env.get_canvas()[0]\n",
    "\n",
    "new_canvas_2 = env.get_next_observation(old_obs, action)\n",
    "new_canvas_2 = new_canvas_2[0,:,:,:3]\n",
    "\n",
    "_, axs = plt.subplots(1, 3)\n",
    "axs[0].imshow(old_canvas)\n",
    "axs[1].imshow(new_canvas)\n",
    "axs[2].imshow(new_canvas_2)\n",
    "\n",
    "print(((new_canvas - new_canvas_2)**2).max())"
   ]
  }
 ],
 "metadata": {
  "kernelspec": {
   "display_name": "RLFrida",
   "language": "python",
   "name": "python3"
  },
  "language_info": {
   "codemirror_mode": {
    "name": "ipython",
    "version": 3
   },
   "file_extension": ".py",
   "mimetype": "text/x-python",
   "name": "python",
   "nbconvert_exporter": "python",
   "pygments_lexer": "ipython3",
   "version": "3.11.9"
  }
 },
 "nbformat": 4,
 "nbformat_minor": 2
}
